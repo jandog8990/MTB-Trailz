{
 "cells": [
  {
   "cell_type": "code",
   "execution_count": 1,
   "metadata": {},
   "outputs": [],
   "source": [
    "# Pre-processing user/movie ratings\n",
    "# scipy.sparse.csr_matrix\n",
    "# matrix sparsity = #ratings / total # elements > 0.5"
   ]
  },
  {
   "cell_type": "code",
   "execution_count": 10,
   "metadata": {},
   "outputs": [
    {
     "name": "stdout",
     "output_type": "stream",
     "text": [
      "[[ 3  3  2]\n",
      " [ 2  3 -2]]\n",
      "U:  [[ 0.7815437 -0.6238505]\n",
      " [ 0.6238505  0.7815437]]\n",
      "--------\n",
      "\n",
      "Singular array:  [5.54801894 2.86696457]\n",
      "--------\n",
      "\n",
      "V^{T}:  [[ 0.64749817  0.7599438   0.05684667]\n",
      " [-0.10759258  0.16501062 -0.9804057 ]\n",
      " [-0.75443354  0.62869461  0.18860838]]\n",
      "--------\n",
      "\n",
      "[0.18024452 0.34880096]\n",
      "[[0.18024452 0.         0.        ]\n",
      " [0.         0.34880096 0.        ]]\n"
     ]
    }
   ],
   "source": [
    "# Testing SVD - singular value decomposition for compressing img\n",
    "from skimage.color import rgb2gray\n",
    "from skimage import data\n",
    "import matplotlib.pyplot as plt\n",
    "import numpy as np\n",
    "from scipy.linalg import svd\n",
    "\n",
    "\"\"\"\n",
    "Singular Value Decomp\n",
    "\"\"\"\n",
    "X = np.array([[3, 3, 2], [2, 3, -2]])\n",
    "print(X)\n",
    "\n",
    "# perform SVD\n",
    "U, singular, V_transpose = svd(X)\n",
    "print(\"U: \", U)\n",
    "print(\"--------\\n\")\n",
    "print(\"Singular array: \", singular)\n",
    "print(\"--------\\n\")\n",
    "print(\"V^{T}: \", V_transpose)\n",
    "print(\"--------\\n\")\n",
    "\n",
    "\"\"\"\n",
    "Calculate the Pseudo inverse of singular matrix\n",
    "\"\"\"\n",
    "singular_inv = 1.0/singular\n",
    "s_inv = np.zeros(X.shape)\n",
    "s_inv[0][0] = singular_inv[0]\n",
    "s_inv[1][1] = singular_inv[1]\n",
    "print(singular_inv)\n",
    "print(s_inv)\n",
    "\n",
    "# calcualte the pseudo inverse"
   ]
  },
  {
   "cell_type": "code",
   "execution_count": null,
   "metadata": {},
   "outputs": [],
   "source": []
  }
 ],
 "metadata": {
  "kernelspec": {
   "display_name": "Python 3",
   "language": "python",
   "name": "python3"
  },
  "language_info": {
   "codemirror_mode": {
    "name": "ipython",
    "version": 3
   },
   "file_extension": ".py",
   "mimetype": "text/x-python",
   "name": "python",
   "nbconvert_exporter": "python",
   "pygments_lexer": "ipython3",
   "version": "3.8.16"
  }
 },
 "nbformat": 4,
 "nbformat_minor": 4
}
